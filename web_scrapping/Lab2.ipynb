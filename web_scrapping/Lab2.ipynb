{
 "cells": [
  {
   "cell_type": "code",
   "execution_count": 1,
   "metadata": {},
   "outputs": [],
   "source": [
    "import matplotlib.pyplot as plt\n",
    "import numpy as np\n",
    "import pandas as pd\n",
    "import requests\n",
    "import lxml\n",
    "from bs4 import BeautifulSoup"
   ]
  },
  {
   "cell_type": "markdown",
   "metadata": {},
   "source": [
    "<H2> Функция для запроса данных с бесконечно пролистываемой страницы"
   ]
  },
  {
   "cell_type": "code",
   "execution_count": 2,
   "metadata": {},
   "outputs": [],
   "source": [
    "def get_Comics_List(page: int):\n",
    "    json ={\n",
    "        \"sort\":\"rate\",\n",
    "        \"dir\":\"desc\",\n",
    "        \"page\":page,\n",
    "        \"types\":[\"9\", \"8\"],\n",
    "        \"site_id\":\"1\",\n",
    "        \"type\":\"manga\",\n",
    "        \"caution_list\":[\"Отсутствует\", \"16+\", \"18+\"]\n",
    "    } # json для полечения комиксов западных и русских\n",
    "    headers ={\n",
    "        \"X-Csrf-Token\":None,\n",
    "        \"X-Requested-With\":\"XMLHttpRequest\",\n",
    "        \"User-Agent\":\"Mozilla/5.0 (Windows NT 10.0; Win64; x64; rv:109.0) Gecko/20100101 Firefox/118.0\"\n",
    "    }\n",
    "    url = \"https://mangalib.me/api/list\"\n",
    "\n",
    "    session = requests.session()\n",
    "\n",
    "    html = session.get(\"https://mangalib.me\") #Получаем базовую страницу\n",
    "    soup = BeautifulSoup(html.text, 'lxml')\n",
    "    csrf_token = soup.find(\"meta\", {\"name\":\"_token\"}).get(\"content\")\n",
    "    headers[\"X-Csrf-Token\"] = csrf_token #Запоминаем токен\n",
    "\n",
    "    session.headers.update(headers)\n",
    "    manga_list = session.post(url, json=json) #Получаем данные\n",
    "    return manga_list.json()"
   ]
  },
  {
   "cell_type": "markdown",
   "metadata": {},
   "source": [
    "<h4> Считываем первые 1200 записей"
   ]
  },
  {
   "cell_type": "code",
   "execution_count": 3,
   "metadata": {},
   "outputs": [
    {
     "ename": "AttributeError",
     "evalue": "'NoneType' object has no attribute 'get'",
     "output_type": "error",
     "traceback": [
      "\u001b[31m---------------------------------------------------------------------------\u001b[39m",
      "\u001b[31mAttributeError\u001b[39m                            Traceback (most recent call last)",
      "\u001b[36mCell\u001b[39m\u001b[36m \u001b[39m\u001b[32mIn[3]\u001b[39m\u001b[32m, line 3\u001b[39m\n\u001b[32m      1\u001b[39m manga_mas = []\n\u001b[32m      2\u001b[39m \u001b[38;5;28;01mfor\u001b[39;00m i \u001b[38;5;129;01min\u001b[39;00m \u001b[38;5;28mrange\u001b[39m(\u001b[32m200\u001b[39m):\n\u001b[32m----> \u001b[39m\u001b[32m3\u001b[39m     manga_mas.append(\u001b[43mget_Comics_List\u001b[49m\u001b[43m(\u001b[49m\u001b[43mi\u001b[49m\u001b[43m+\u001b[49m\u001b[32;43m1\u001b[39;49m\u001b[43m)\u001b[49m)\n\u001b[32m      4\u001b[39m manga_mas\n",
      "\u001b[36mCell\u001b[39m\u001b[36m \u001b[39m\u001b[32mIn[2]\u001b[39m\u001b[32m, line 22\u001b[39m, in \u001b[36mget_Comics_List\u001b[39m\u001b[34m(page)\u001b[39m\n\u001b[32m     20\u001b[39m html = session.get(\u001b[33m\"\u001b[39m\u001b[33mhttps://mangalib.me\u001b[39m\u001b[33m\"\u001b[39m) \u001b[38;5;66;03m#Получаем базовую страницу\u001b[39;00m\n\u001b[32m     21\u001b[39m soup = BeautifulSoup(html.text, \u001b[33m'\u001b[39m\u001b[33mlxml\u001b[39m\u001b[33m'\u001b[39m)\n\u001b[32m---> \u001b[39m\u001b[32m22\u001b[39m csrf_token = \u001b[43msoup\u001b[49m\u001b[43m.\u001b[49m\u001b[43mfind\u001b[49m\u001b[43m(\u001b[49m\u001b[33;43m\"\u001b[39;49m\u001b[33;43mmeta\u001b[39;49m\u001b[33;43m\"\u001b[39;49m\u001b[43m,\u001b[49m\u001b[43m \u001b[49m\u001b[43m{\u001b[49m\u001b[33;43m\"\u001b[39;49m\u001b[33;43mname\u001b[39;49m\u001b[33;43m\"\u001b[39;49m\u001b[43m:\u001b[49m\u001b[33;43m\"\u001b[39;49m\u001b[33;43m_token\u001b[39;49m\u001b[33;43m\"\u001b[39;49m\u001b[43m}\u001b[49m\u001b[43m)\u001b[49m\u001b[43m.\u001b[49m\u001b[43mget\u001b[49m(\u001b[33m\"\u001b[39m\u001b[33mcontent\u001b[39m\u001b[33m\"\u001b[39m)\n\u001b[32m     23\u001b[39m headers[\u001b[33m\"\u001b[39m\u001b[33mX-Csrf-Token\u001b[39m\u001b[33m\"\u001b[39m] = csrf_token \u001b[38;5;66;03m#Запоминаем токен\u001b[39;00m\n\u001b[32m     25\u001b[39m session.headers.update(headers)\n",
      "\u001b[31mAttributeError\u001b[39m: 'NoneType' object has no attribute 'get'"
     ]
    }
   ],
   "source": [
    "manga_mas = []\n",
    "for i in range(200):\n",
    "    manga_mas.append(get_Comics_List(i+1))\n",
    "manga_mas"
   ]
  },
  {
   "cell_type": "markdown",
   "metadata": {},
   "source": [
    "Смотрим данные, которые мы вытянули из запросов"
   ]
  },
  {
   "cell_type": "code",
   "execution_count": null,
   "metadata": {},
   "outputs": [],
   "source": [
    "manga_mas[0]['items']['data'][0].keys()"
   ]
  },
  {
   "cell_type": "markdown",
   "metadata": {},
   "source": [
    "<h2> Заполняем DF"
   ]
  },
  {
   "cell_type": "code",
   "execution_count": null,
   "metadata": {},
   "outputs": [],
   "source": [
    "from random import random\n",
    "from time import sleep\n",
    "href_mas = []\n",
    "data_mas = []\n",
    "name_mas = []\n",
    "df = pd.DataFrame()\n",
    "i = 0\n",
    "for manga_mas_lower in manga_mas:\n",
    "    data = manga_mas_lower['items']['data']\n",
    "    if not data[1] in name_mas:\n",
    "        name_mas.append(data[1])\n",
    "        for elems in data:\n",
    "            for key in list(elems.keys()):\n",
    "                # print(elems[key])\n",
    "                if key != 'covers':\n",
    "                    df.loc[i, key] = elems[key]\n",
    "                else:\n",
    "                    for kkey in elems[key].keys():\n",
    "                        df.loc[i, \"cover_\"+kkey] = elems[key][kkey]\n",
    "            # df.loc[i,'href'] = elems['href']\n",
    "            # df.loc[i,'id'] = int(elems['id'])\n",
    "            i+=1\n",
    "df.head()\n"
   ]
  },
  {
   "cell_type": "markdown",
   "metadata": {},
   "source": [
    "Функция для красивого статус бара"
   ]
  },
  {
   "cell_type": "code",
   "execution_count": null,
   "metadata": {},
   "outputs": [],
   "source": [
    "def log_progress(sequence, every=None, size=None, name='Items'):\n",
    "    from ipywidgets import IntProgress, HTML, VBox\n",
    "    from IPython.display import display\n",
    "\n",
    "    is_iterator = False\n",
    "    if size is None:\n",
    "        try:\n",
    "            size = len(sequence)\n",
    "        except TypeError:\n",
    "            is_iterator = True\n",
    "    if size is not None:\n",
    "        if every is None:\n",
    "            if size <= 200:\n",
    "                every = 1\n",
    "            else:\n",
    "                every = int(size / 200)     # every 0.5%\n",
    "    else:\n",
    "        assert every is not None, 'sequence is iterator, set every'\n",
    "\n",
    "    if is_iterator:\n",
    "        progress = IntProgress(min=0, max=1, value=1)\n",
    "        progress.bar_style = 'info'\n",
    "    else:\n",
    "        progress = IntProgress(min=0, max=size, value=0)\n",
    "    label = HTML()\n",
    "    box = VBox(children=[label, progress])\n",
    "    display(box)\n",
    "\n",
    "    index = 0\n",
    "    try:\n",
    "        for index, record in enumerate(sequence, 1):\n",
    "            if index == 1 or index % every == 0:\n",
    "                if is_iterator:\n",
    "                    label.value = '{name}: {index} / ?'.format(\n",
    "                        name=name,\n",
    "                        index=index\n",
    "                    )\n",
    "                else:\n",
    "                    progress.value = index\n",
    "                    label.value = u'{name}: {index} / {size}'.format(\n",
    "                        name=name,\n",
    "                        index=index,\n",
    "                        size=size\n",
    "                    )\n",
    "            yield record\n",
    "    except:\n",
    "        progress.bar_style = 'danger'\n",
    "        raise\n",
    "    else:\n",
    "        progress.bar_style = 'success'\n",
    "        progress.value = index\n",
    "        label.value = \"{name}: {index}\".format(\n",
    "            name=name,\n",
    "            index=str(index or '?')\n",
    "        )\n"
   ]
  },
  {
   "cell_type": "code",
   "execution_count": null,
   "metadata": {},
   "outputs": [],
   "source": [
    "stop = 0"
   ]
  },
  {
   "cell_type": "markdown",
   "metadata": {},
   "source": [
    "<h2>Читаем данные со страниц комиксов"
   ]
  },
  {
   "cell_type": "code",
   "execution_count": null,
   "metadata": {},
   "outputs": [],
   "source": [
    "import sys\n",
    "\n",
    "aim_heads = {'Год релиза':'Release_Year', 'Статус тайтла':'Title_Status', 'Статус перевода':'Translate_Status', \n",
    "             'Автор':'Author', 'Художник':'Artist',  'Возрастной рейтинг':'Age_restriction', 'Загружено глав':'Chapters_Loaded'}\n",
    "\n",
    "for href in enumerate(log_progress(df['href'], every = 1)):\n",
    "    if href[0] < stop:\n",
    "        continue\n",
    "    heads = []\n",
    "    bodies = {}\n",
    "    response = requests.get(href[1])\n",
    "    bs = BeautifulSoup(response.text)\n",
    "    # Колонка с базовыми данными о комиксе\n",
    "    heads_bs = bs.find_all('div', {\"class\":\"media-info-list__title\"})\n",
    "    bodies_bs = bs.find_all('div', {\"class\":\"media-info-list__value\"})\n",
    "    \n",
    "    for i in heads_bs:\n",
    "        heads.append(i.text)\n",
    "    for i in enumerate(heads):\n",
    "        if i[1] in aim_heads.keys() :\n",
    "            # print(aim_heads[i[1]])\n",
    "            bodies[aim_heads[i[1]]] = bodies_bs[i[0]].text.replace('\\n','') #''.join(filter(str.isalnum, bodies_bs[i[0]].text))\n",
    "    # print(heads)\n",
    "    # print(bodies)\n",
    "    for i in bodies.keys():\n",
    "        df.loc[href[0], i] = bodies[i]\n",
    "\n",
    "    # Краткое описание\n",
    "    desc = bs.find('div', {'class':'media-description__text'})\n",
    "    if desc:\n",
    "        df.loc[href[0], 'Short_Description'] = desc.text.replace('\\n',' ').replace('\\r',' ')\n",
    "        # print(df.loc[href[0], 'Short_Description'])\n",
    "    \n",
    "    # Множество тэгов\n",
    "    tags = bs.find('div', {'class':'media-tags'})\n",
    "    tag_mas = []\n",
    "    if tags != None:\n",
    "        for i in tags:\n",
    "            txt = i.text.replace('\\n','')\n",
    "            if txt != '':\n",
    "                tag_mas.append(txt)\n",
    "    df.loc[href[0], 'tags'] = str(tag_mas)\n",
    "    \n",
    "    # Списки пользователей и оценки\n",
    "    user_lists = {}\n",
    "    user_rates = {}\n",
    "    media_cols = bs.find_all('div', {'class':'media-section__col'})\n",
    "    for col in media_cols:\n",
    "        col_type = col.find('div', {'class':'media-section__title'}).text\n",
    "        if col_type != \"Оценки пользователей\":\n",
    "            divs = col.find_all('div',{'class':'media-stats-item__column media-stats-item__count'})\n",
    "            names = col.find_all('div',{'class':'media-stats-item__column media-stats-item__title'})\n",
    "            for i in range(len(divs)):\n",
    "                user_lists[names[i].text.replace('\\n','')] = int(divs[i].text)\n",
    "        else:\n",
    "            divs = col.find_all('div',{'class':'media-stats-item__column media-stats-item__count'})\n",
    "            names = col.find_all('div',{'class':'media-stats-item__column media-stats-item__title'})\n",
    "            for i in range(len(divs)):\n",
    "                user_rates[int(names[i].text.replace('\\n',''))] = int(divs[i].text)\n",
    "    df.loc[href[0], 'User_rates'] = str(user_rates)\n",
    "    df.loc[href[0], 'User_lists'] = str(user_lists)\n",
    "\n",
    "    # Списки переводчиков\n",
    "    trans_dict = {}\n",
    "    trans = bs.find('div', {'class':'team-list'})\n",
    "    if trans != None:\n",
    "        tr_hrefs = trans.find_all('a', {'class':'team-list-item team-list-item_xs'})\n",
    "        tr_names = trans.find_all('div', {'class':'team-list-item__name'})\n",
    "        for i in range(len(tr_names)):\n",
    "            trans_dict[tr_names[i].text] = tr_hrefs[i].get('href')\n",
    "    df.loc[href[0], 'Translators'] = str(trans_dict)\n",
    "    stop += 1\n",
    "df.head()\n"
   ]
  },
  {
   "cell_type": "markdown",
   "metadata": {},
   "source": [
    "\"Потрачено на открытие страницы:  0.6658093929290771  \n",
    "Потрачено на заполнение df:  0.02171039581298828\"  \n",
    "Судя по всему, больше всего времени тратится на открытие каждой новой страницы"
   ]
  },
  {
   "cell_type": "markdown",
   "metadata": {},
   "source": [
    "Описание итогового DF"
   ]
  },
  {
   "cell_type": "code",
   "execution_count": null,
   "metadata": {},
   "outputs": [],
   "source": [
    "df.info()"
   ]
  },
  {
   "cell_type": "markdown",
   "metadata": {},
   "source": [
    "title_status_id - бесполезный параметр, его следует убрать"
   ]
  },
  {
   "cell_type": "code",
   "execution_count": null,
   "metadata": {},
   "outputs": [],
   "source": [
    "df.drop('title_status_id', axis=1)\n",
    "df.to_csv('comics.csv')\n",
    "df.head()"
   ]
  },
  {
   "cell_type": "markdown",
   "metadata": {},
   "source": [
    "Итого: 28 различных параметров на 1200 объектов\n",
    "В ходе выполнения данной лабораторной работы я познакомился с библиотекой BeautifulSoup и научился добывать данные из веб-страниц  \n",
    "Полученные данные в дальнейшем могут быть использованы для комплексного сравнения различных комиксов и их жанров по популярности"
   ]
  }
 ],
 "metadata": {
  "kernelspec": {
   "display_name": ".venv",
   "language": "python",
   "name": "python3"
  },
  "language_info": {
   "codemirror_mode": {
    "name": "ipython",
    "version": 3
   },
   "file_extension": ".py",
   "mimetype": "text/x-python",
   "name": "python",
   "nbconvert_exporter": "python",
   "pygments_lexer": "ipython3",
   "version": "3.13.7"
  },
  "orig_nbformat": 4
 },
 "nbformat": 4,
 "nbformat_minor": 2
}
